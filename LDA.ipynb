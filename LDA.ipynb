{
 "cells": [
  {
   "cell_type": "code",
   "execution_count": 9,
   "metadata": {},
   "outputs": [],
   "source": [
    "import numpy as np\n",
    "import pandas as pd\n",
    "from sklearn.cross_validation import train_test_split\n",
    "from sklearn.discriminant_analysis import LinearDiscriminantAnalysis"
   ]
  },
  {
   "cell_type": "code",
   "execution_count": 10,
   "metadata": {},
   "outputs": [
    {
     "name": "stdout",
     "output_type": "stream",
     "text": [
      "(180, 14)\n",
      "(90, 14)\n"
     ]
    }
   ],
   "source": [
    "X_train = pd.read_csv(\"train_values.csv\")\n",
    "y_train = pd.read_csv(\"train_labels.csv\")\n",
    "\n",
    "y_train = y_train.drop(\"patient_id\", axis=1)\n",
    "\n",
    "X_test = pd.read_csv(\"test_values.csv\")\n",
    "\n",
    "# print(X_train)\n",
    "\n",
    "train_thal_normal = pd.DataFrame({'normal_thal':[int(X_train['thal'][i]=='normal') for i in range(X_train.shape[0])]})\n",
    "train_thal_defect = pd.DataFrame({'defect_thal':[int(X_train['thal'][i]=='reversible_defect') for i in range(X_train.shape[0])]})\n",
    "X_train = pd.concat([X_train ,train_thal_normal, train_thal_defect], axis=1)\n",
    "X_train = X_train.drop([\"thal\", \"patient_id\"], axis=1)\n",
    "\n",
    "test_thal_normal = pd.DataFrame({'normal_thal':[int(X_test['thal'][i]=='normal') for i in range(X_test.shape[0])]})\n",
    "test_thal_defect = pd.DataFrame({'defect_thal':[int(X_test['thal'][i]=='reversible_defect') for i in range(X_test.shape[0])]})\n",
    "# print(train_thal_normal.shape)\n",
    "# print(train_thal_defect.shape)\n",
    "X_test = pd.concat([X_test ,test_thal_normal, test_thal_defect], axis=1)\n",
    "X_test = X_test.drop([\"thal\", \"patient_id\"], axis=1)\n",
    "\n",
    "X_test = (X_test-X_train.mean())/X_train.std()\n",
    "X_train = (X_train-X_train.mean())/X_train.std()\n",
    "\n",
    "n_cols=X_train.shape[1]\n",
    "\n",
    "print(X_train.shape)\n",
    "print(X_test.shape)"
   ]
  },
  {
   "cell_type": "code",
   "execution_count": 11,
   "metadata": {},
   "outputs": [
    {
     "name": "stderr",
     "output_type": "stream",
     "text": [
      "/home/rishabh/.local/lib/python3.5/site-packages/sklearn/utils/validation.py:578: DataConversionWarning: A column-vector y was passed when a 1d array was expected. Please change the shape of y to (n_samples, ), for example using ravel().\n",
      "  y = column_or_1d(y, warn=True)\n"
     ]
    },
    {
     "data": {
      "text/plain": [
       "QuadraticDiscriminantAnalysis(priors=None, reg_param=0.0,\n",
       "               store_covariance=False, store_covariances=None, tol=0.0001)"
      ]
     },
     "execution_count": 11,
     "metadata": {},
     "output_type": "execute_result"
    }
   ],
   "source": [
    "clf = LinearDiscriminantAnalysis()\n",
    "clf.fit(X_train, y_train)"
   ]
  },
  {
   "cell_type": "code",
   "execution_count": 12,
   "metadata": {},
   "outputs": [],
   "source": [
    "y_predict = clf.predict_proba(X_test)[...,1]"
   ]
  },
  {
   "cell_type": "code",
   "execution_count": 13,
   "metadata": {},
   "outputs": [
    {
     "name": "stdout",
     "output_type": "stream",
     "text": [
      "z9n6mx\n",
      "(90, 2)\n"
     ]
    }
   ],
   "source": [
    "sub_format = pd.read_csv(\"submission_format.csv\")\n",
    "print(sub_format['patient_id'][1])\n",
    "print(sub_format.shape)\n",
    "import csv\n",
    "\n",
    "with open('submission.csv','w',newline='') as csvfile:\n",
    "    writerr = csv.writer(csvfile,delimiter=',')\n",
    "    writerr.writerow(['patient_id','heart_disease_present'])\n",
    "    index = 0\n",
    "    for index in range(sub_format.shape[0]):\n",
    "        pat_id = sub_format['patient_id'][index]\n",
    "        \n",
    "        writerr.writerow([pat_id,float(y_predict[index])])\n",
    "        index += 1"
   ]
  }
 ],
 "metadata": {
  "kernelspec": {
   "display_name": "Python 3",
   "language": "python",
   "name": "python3"
  },
  "language_info": {
   "codemirror_mode": {
    "name": "ipython",
    "version": 3
   },
   "file_extension": ".py",
   "mimetype": "text/x-python",
   "name": "python",
   "nbconvert_exporter": "python",
   "pygments_lexer": "ipython3",
   "version": "3.5.2"
  }
 },
 "nbformat": 4,
 "nbformat_minor": 2
}
