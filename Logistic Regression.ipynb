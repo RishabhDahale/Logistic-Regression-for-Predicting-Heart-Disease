{
 "cells": [
  {
   "cell_type": "code",
   "execution_count": 1,
   "metadata": {},
   "outputs": [
    {
     "name": "stderr",
     "output_type": "stream",
     "text": [
      "/home/rishabh/.local/lib/python3.5/site-packages/sklearn/cross_validation.py:41: DeprecationWarning: This module was deprecated in version 0.18 in favor of the model_selection module into which all the refactored classes and functions are moved. Also note that the interface of the new CV iterators are different from that of this module. This module will be removed in 0.20.\n",
      "  \"This module will be removed in 0.20.\", DeprecationWarning)\n"
     ]
    }
   ],
   "source": [
    "import numpy as np\n",
    "import pandas as pd\n",
    "from sklearn.linear_model import LogisticRegression\n",
    "from sklearn.cross_validation import train_test_split"
   ]
  },
  {
   "cell_type": "code",
   "execution_count": 2,
   "metadata": {},
   "outputs": [
    {
     "name": "stdout",
     "output_type": "stream",
     "text": [
      "(180, 14)\n",
      "(90, 14)\n"
     ]
    },
    {
     "name": "stderr",
     "output_type": "stream",
     "text": [
      "/home/rishabh/.local/lib/python3.5/site-packages/pandas/core/computation/check.py:17: UserWarning: The installed version of numexpr 2.4.3 is not supported in pandas and will be not be used\n",
      "The minimum supported version is 2.4.6\n",
      "\n",
      "  ver=ver, min_ver=_MIN_NUMEXPR_VERSION), UserWarning)\n"
     ]
    }
   ],
   "source": [
    "X_train = pd.read_csv(\"train_values.csv\")\n",
    "y_train = pd.read_csv(\"train_labels.csv\")\n",
    "\n",
    "y_train = y_train.drop(\"patient_id\", axis=1)\n",
    "\n",
    "X_test = pd.read_csv(\"test_values.csv\")\n",
    "\n",
    "# print(X_train)\n",
    "\n",
    "train_thal_normal = pd.DataFrame({'normal_thal':[int(X_train['thal'][i]=='normal') for i in range(X_train.shape[0])]})\n",
    "train_thal_defect = pd.DataFrame({'defect_thal':[int(X_train['thal'][i]=='reversible_defect') for i in range(X_train.shape[0])]})\n",
    "X_train = pd.concat([X_train ,train_thal_normal, train_thal_defect], axis=1)\n",
    "X_train = X_train.drop([\"thal\", \"patient_id\"], axis=1)\n",
    "\n",
    "test_thal_normal = pd.DataFrame({'normal_thal':[int(X_test['thal'][i]=='normal') for i in range(X_test.shape[0])]})\n",
    "test_thal_defect = pd.DataFrame({'defect_thal':[int(X_test['thal'][i]=='reversible_defect') for i in range(X_test.shape[0])]})\n",
    "# print(train_thal_normal.shape)\n",
    "# print(train_thal_defect.shape)\n",
    "X_test = pd.concat([X_test ,test_thal_normal, test_thal_defect], axis=1)\n",
    "X_test = X_test.drop([\"thal\", \"patient_id\"], axis=1)\n",
    "\n",
    "X_test = (X_test-X_train.mean())/X_train.std()\n",
    "X_train = (X_train-X_train.mean())/X_train.std()\n",
    "\n",
    "n_cols=X_train.shape[1]\n",
    "\n",
    "print(X_train.shape)\n",
    "print(X_test.shape)"
   ]
  },
  {
   "cell_type": "code",
   "execution_count": 3,
   "metadata": {},
   "outputs": [
    {
     "name": "stderr",
     "output_type": "stream",
     "text": [
      "/home/rishabh/.local/lib/python3.5/site-packages/sklearn/utils/validation.py:578: DataConversionWarning: A column-vector y was passed when a 1d array was expected. Please change the shape of y to (n_samples, ), for example using ravel().\n",
      "  y = column_or_1d(y, warn=True)\n"
     ]
    },
    {
     "data": {
      "text/plain": [
       "LogisticRegression(C=1000.0, class_weight=None, dual=False,\n",
       "          fit_intercept=True, intercept_scaling=1, max_iter=100,\n",
       "          multi_class='ovr', n_jobs=1, penalty='l2', random_state=0,\n",
       "          solver='liblinear', tol=0.0001, verbose=0, warm_start=False)"
      ]
     },
     "execution_count": 3,
     "metadata": {},
     "output_type": "execute_result"
    }
   ],
   "source": [
    "lr = LogisticRegression(C=1000.0, random_state=0)\n",
    "lr.fit(X_train, y_train)"
   ]
  },
  {
   "cell_type": "code",
   "execution_count": 4,
   "metadata": {},
   "outputs": [],
   "source": [
    "y_predict = lr.predict_proba(X_test)[...,1]"
   ]
  },
  {
   "cell_type": "code",
   "execution_count": 5,
   "metadata": {},
   "outputs": [
    {
     "data": {
      "text/plain": [
       "array([0.29787308, 0.05205606, 0.94953807, 0.04303907, 0.93850019,\n",
       "       0.0293537 , 0.05705808, 0.98151234, 0.160584  , 0.14374922,\n",
       "       0.52419505, 0.6828023 , 0.37775716, 0.99274678, 0.07719865,\n",
       "       0.01398109, 0.01028778, 0.01140285, 0.96398743, 0.05350623,\n",
       "       0.97565841, 0.13361036, 0.11986556, 0.00581747, 0.32580216,\n",
       "       0.93779506, 0.37785953, 0.08667947, 0.66578013, 0.02431817,\n",
       "       0.87196603, 0.15916101, 0.69326439, 0.47812645, 0.07408742,\n",
       "       0.03597404, 0.20604226, 0.33453292, 0.0632945 , 0.03955842,\n",
       "       0.98231928, 0.03603093, 0.92303367, 0.02843812, 0.94779995,\n",
       "       0.09941343, 0.05309622, 0.13354676, 0.19323839, 0.88042864,\n",
       "       0.79477111, 0.0443615 , 0.99481404, 0.0725225 , 0.52984147,\n",
       "       0.03274355, 0.96369831, 0.1094465 , 0.31057391, 0.59864934,\n",
       "       0.04497215, 0.95410074, 0.16366567, 0.98712471, 0.03108141,\n",
       "       0.90576788, 0.79481189, 0.5321448 , 0.72643821, 0.80981657,\n",
       "       0.04960779, 0.99288996, 0.97639728, 0.99142234, 0.99035619,\n",
       "       0.9811725 , 0.90778808, 0.90931355, 0.24203615, 0.70527822,\n",
       "       0.50955676, 0.01917094, 0.38894459, 0.8530261 , 0.2351624 ,\n",
       "       0.01779128, 0.84487486, 0.34602549, 0.27617792, 0.25847983])"
      ]
     },
     "execution_count": 5,
     "metadata": {},
     "output_type": "execute_result"
    }
   ],
   "source": [
    "y_predict"
   ]
  },
  {
   "cell_type": "code",
   "execution_count": 6,
   "metadata": {},
   "outputs": [
    {
     "name": "stdout",
     "output_type": "stream",
     "text": [
      "z9n6mx\n",
      "(90, 2)\n"
     ]
    }
   ],
   "source": [
    "sub_format = pd.read_csv(\"submission_format.csv\")\n",
    "print(sub_format['patient_id'][1])\n",
    "print(sub_format.shape)\n",
    "import csv\n",
    "\n",
    "with open('submission.csv','w',newline='') as csvfile:\n",
    "    writerr = csv.writer(csvfile,delimiter=',')\n",
    "    writerr.writerow(['patient_id','heart_disease_present'])\n",
    "    index = 0\n",
    "    for index in range(sub_format.shape[0]):\n",
    "        pat_id = sub_format['patient_id'][index]\n",
    "        \n",
    "        writerr.writerow([pat_id,float(y_predict[index])])\n",
    "        index += 1"
   ]
  },
  {
   "cell_type": "code",
   "execution_count": null,
   "metadata": {},
   "outputs": [],
   "source": []
  },
  {
   "cell_type": "code",
   "execution_count": null,
   "metadata": {},
   "outputs": [],
   "source": []
  }
 ],
 "metadata": {
  "kernelspec": {
   "display_name": "Python 3",
   "language": "python",
   "name": "python3"
  },
  "language_info": {
   "codemirror_mode": {
    "name": "ipython",
    "version": 3
   },
   "file_extension": ".py",
   "mimetype": "text/x-python",
   "name": "python",
   "nbconvert_exporter": "python",
   "pygments_lexer": "ipython3",
   "version": "3.5.2"
  }
 },
 "nbformat": 4,
 "nbformat_minor": 2
}
